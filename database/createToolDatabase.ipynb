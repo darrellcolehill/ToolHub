{
 "cells": [
  {
   "cell_type": "code",
   "execution_count": 12,
   "metadata": {},
   "outputs": [],
   "source": [
    "import os\n",
    "import json\n",
    "import chromadb\n",
    "from tqdm import tqdm\n",
    "from sentence_transformers import SentenceTransformer"
   ]
  },
  {
   "cell_type": "code",
   "execution_count": 13,
   "metadata": {},
   "outputs": [
    {
     "name": "stderr",
     "output_type": "stream",
     "text": [
      "100%|██████████| 3/3 [00:00<00:00, 58.17it/s]"
     ]
    },
    {
     "name": "stdout",
     "output_type": "stream",
     "text": [
      "✅ Added new file to ChromaDB: set_alarm.json\n",
      "✅ Added new file to ChromaDB: turn_on_lights.json\n",
      "✅ Added new file to ChromaDB: fetch_weather.json\n",
      "🎉 All JSON files have been processed!\n"
     ]
    },
    {
     "name": "stderr",
     "output_type": "stream",
     "text": [
      "\n"
     ]
    }
   ],
   "source": [
    "# Initialize ChromaDB (Persistent)\n",
    "chroma_client = chromadb.PersistentClient(path=\"./chroma\")\n",
    "collection = chroma_client.get_or_create_collection(name=\"tool_json_documents\")\n",
    "\n",
    "# Load local embedding models\n",
    "embedding_model = SentenceTransformer(\"all-MiniLM-L6-v2\")\n",
    "\n",
    "# Directory containing JSON files\n",
    "json_dir = \"../tools\"\n",
    "\n",
    "# Function to check if a file already exists in ChromaDB\n",
    "def file_exists_in_db(filename):\n",
    "    results = collection.get(ids=[filename])\n",
    "    return len(results[\"ids\"]) > 0  # If ID exists, return True\n",
    "\n",
    "# Process and add/update JSON files in the vector database\n",
    "for filename in tqdm(os.listdir(json_dir)):\n",
    "    if filename.endswith(\".json\"):\n",
    "        file_path = os.path.join(json_dir, filename)\n",
    "\n",
    "        with open(file_path, \"r\", encoding=\"utf-8\") as file:\n",
    "            data = json.load(file)  # Load JSON content\n",
    "\n",
    "        # Convert JSON into a searchable text format\n",
    "        text_data = json.dumps(data, indent=2)  # Convert to string\n",
    "        embedding = embedding_model.encode(text_data, convert_to_numpy=True).tolist()  # Generate embedding\n",
    "\n",
    "        if file_exists_in_db(filename):\n",
    "            # Update existing entry\n",
    "            collection.update(\n",
    "                ids=[filename],  # Keep the same ID\n",
    "                embeddings=[embedding],\n",
    "                metadatas=[{\"filename\": filename, \"path\": file_path}],\n",
    "                documents=[text_data]\n",
    "            )\n",
    "            print(f\"🔄 Updated existing file in ChromaDB: {filename}\")\n",
    "        else:\n",
    "            # Add new entry\n",
    "            collection.add(\n",
    "                ids=[filename],\n",
    "                embeddings=[embedding],\n",
    "                metadatas=[{\"filename\": filename, \"path\": file_path}],\n",
    "                documents=[text_data]\n",
    "            )\n",
    "            print(f\"✅ Added new file to ChromaDB: {filename}\")\n",
    "\n",
    "print(\"🎉 All JSON files have been processed!\")\n"
   ]
  },
  {
   "cell_type": "code",
   "execution_count": 14,
   "metadata": {},
   "outputs": [
    {
     "name": "stderr",
     "output_type": "stream",
     "text": [
      "Number of requested results 5 is greater than number of elements in index 3, updating n_results = 3\n"
     ]
    },
    {
     "name": "stdout",
     "output_type": "stream",
     "text": [
      "🔍 Retrieved Document from turn_on_lights.json:\n",
      " {\n",
      "  \"examples\": [\n",
      "    \"Can you turn on the ROOM light?\",\n",
      "    \"Turn on the light in the ROOM?\",\n",
      "    \"turn on the ROOM light?\"\n",
      "  ],\n",
      "  \"tool\": {\n",
      "    \"name\": \"turn_on_light\",\n",
      "    \"description\": \"Send an HTTP request to turn on a smart lightbulb in a specific room.\",\n",
      "    \"parameters\": {\n",
      "      \"type\": \"dict\",\n",
      "      \"required\": [\n",
      "        \"room\"\n",
      "      ],\n",
      "      \"properties\": {\n",
      "        \"room\": {\n",
      "          \"type\": \"string\",\n",
      "          \"description\": \"The room where the light is located. Must be one of: livi \n",
      "\n",
      "🔍 Retrieved Document from fetch_weather.json:\n",
      " {\n",
      "  \"examples\": [\n",
      "    \"Can you get the weather for CITY STATE?\",\n",
      "    \"Get the weather for CITY STATE?\",\n",
      "    \"What is the weather for CITY STATE?\"\n",
      "  ],\n",
      "  \"tool\": {\n",
      "    \"name\": \"fetch_weather\",\n",
      "    \"description\": \"Fetch the current weather for a given location.\",\n",
      "    \"parameters\": {\n",
      "      \"type\": \"dict\",\n",
      "      \"required\": [\n",
      "        \"location\"\n",
      "      ],\n",
      "      \"properties\": {\n",
      "        \"location\": {\n",
      "          \"type\": \"string\",\n",
      "          \"description\": \"The name of the city or coordinates (latitude,long \n",
      "\n",
      "🔍 Retrieved Document from set_alarm.json:\n",
      " {\n",
      "  \"examples\": [\n",
      "    \"Can you set alarm for TIME?\",\n",
      "    \"set alarm for TIME?\"\n",
      "  ],\n",
      "  \"tool\": {\n",
      "    \"name\": \"set_alarm\",\n",
      "    \"description\": \"Set an alarm for a specific time.\",\n",
      "    \"parameters\": {\n",
      "      \"type\": \"dict\",\n",
      "      \"required\": [\n",
      "        \"time\"\n",
      "      ],\n",
      "      \"properties\": {\n",
      "        \"time\": {\n",
      "          \"type\": \"string\",\n",
      "          \"description\": \"The time to set the alarm for, in HH:MM 24-hour format.\"\n",
      "        },\n",
      "        \"label\": {\n",
      "          \"type\": \"string\",\n",
      "          \"description\": \"An \n",
      "\n"
     ]
    }
   ],
   "source": [
    "# Query Example\n",
    "query = \"Find documents about machine learning\"\n",
    "query_embedding = embedding_model.encode(query, convert_to_numpy=True).tolist()\n",
    "\n",
    "results = collection.query(query_embeddings=[query_embedding], n_results=5)\n",
    "\n",
    "# Print the top results\n",
    "for doc, meta in zip(results[\"documents\"][0], results[\"metadatas\"][0]):\n",
    "    print(f\"🔍 Retrieved Document from {meta['filename']}:\\n\", doc[:500], \"\\n\")"
   ]
  }
 ],
 "metadata": {
  "kernelspec": {
   "display_name": "venv_test",
   "language": "python",
   "name": "python3"
  },
  "language_info": {
   "codemirror_mode": {
    "name": "ipython",
    "version": 3
   },
   "file_extension": ".py",
   "mimetype": "text/x-python",
   "name": "python",
   "nbconvert_exporter": "python",
   "pygments_lexer": "ipython3",
   "version": "3.12.3"
  }
 },
 "nbformat": 4,
 "nbformat_minor": 2
}
