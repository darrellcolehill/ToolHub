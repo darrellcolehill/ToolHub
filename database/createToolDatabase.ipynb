{
 "cells": [
  {
   "cell_type": "code",
   "execution_count": null,
   "metadata": {},
   "outputs": [],
   "source": [
    "import os\n",
    "import json\n",
    "import chromadb\n",
    "from tqdm import tqdm\n",
    "from sentence_transformers import SentenceTransformer"
   ]
  },
  {
   "cell_type": "code",
   "execution_count": null,
   "metadata": {},
   "outputs": [],
   "source": [
    "# Initialize ChromaDB (Persistent)\n",
    "chroma_client = chromadb.PersistentClient(path=\"./chroma\")\n",
    "collection = chroma_client.get_or_create_collection(name=\"tool_json_documents\")\n",
    "\n",
    "# Load local embedding models\n",
    "embedding_model = SentenceTransformer(\"all-MiniLM-L6-v2\")\n",
    "\n",
    "# Directory containing JSON files\n",
    "json_dir = \"../tools\"\n",
    "\n",
    "# Function to check if a file already exists in ChromaDB\n",
    "def file_exists_in_db(filename):\n",
    "    results = collection.get(ids=[filename])\n",
    "    return len(results[\"ids\"]) > 0  # If ID exists, return True\n",
    "\n",
    "# Process and add/update JSON files in the vector database\n",
    "for filename in tqdm(os.listdir(json_dir)):\n",
    "    if filename.endswith(\".json\"):\n",
    "        file_path = os.path.join(json_dir, filename)\n",
    "\n",
    "        with open(file_path, \"r\", encoding=\"utf-8\") as file:\n",
    "            data = json.load(file)  # Load JSON content\n",
    "\n",
    "        # Convert JSON into a searchable text format\n",
    "        text_data = json.dumps(data, indent=2)  # Convert to string\n",
    "        embedding = embedding_model.encode(text_data, convert_to_numpy=True).tolist()  # Generate embedding\n",
    "\n",
    "        if file_exists_in_db(filename):\n",
    "            # Update existing entry\n",
    "            collection.update(\n",
    "                ids=[filename],  # Keep the same ID\n",
    "                embeddings=[embedding],\n",
    "                metadatas=[{\"filename\": filename, \"path\": file_path}],\n",
    "                documents=[text_data]\n",
    "            )\n",
    "            print(f\"🔄 Updated existing file in ChromaDB: {filename}\")\n",
    "        else:\n",
    "            # Add new entry\n",
    "            collection.add(\n",
    "                ids=[filename],\n",
    "                embeddings=[embedding],\n",
    "                metadatas=[{\"filename\": filename, \"path\": file_path}],\n",
    "                documents=[text_data]\n",
    "            )\n",
    "            print(f\"✅ Added new file to ChromaDB: {filename}\")\n",
    "\n",
    "print(\"🎉 All JSON files have been processed!\")\n"
   ]
  },
  {
   "cell_type": "code",
   "execution_count": null,
   "metadata": {},
   "outputs": [],
   "source": [
    "# Query Example\n",
    "query = \"Find documents about machine learning\"\n",
    "query_embedding = embedding_model.encode(query, convert_to_numpy=True).tolist()\n",
    "\n",
    "results = collection.query(query_embeddings=[query_embedding], n_results=5)\n",
    "\n",
    "# Print the top results\n",
    "for doc, meta in zip(results[\"documents\"][0], results[\"metadatas\"][0]):\n",
    "    print(f\"🔍 Retrieved Document from {meta['filename']}:\\n\", doc[:500], \"\\n\")"
   ]
  }
 ],
 "metadata": {
  "kernelspec": {
   "display_name": "venv_test",
   "language": "python",
   "name": "python3"
  },
  "language_info": {
   "codemirror_mode": {
    "name": "ipython",
    "version": 3
   },
   "file_extension": ".py",
   "mimetype": "text/x-python",
   "name": "python",
   "nbconvert_exporter": "python",
   "pygments_lexer": "ipython3",
   "version": "3.12.3"
  }
 },
 "nbformat": 4,
 "nbformat_minor": 2
}
