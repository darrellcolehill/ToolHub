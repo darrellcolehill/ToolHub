{
 "cells": [
  {
   "cell_type": "code",
   "execution_count": 1,
   "metadata": {},
   "outputs": [],
   "source": [
    "# Test this with Llama 3.2 3B and 1B models\n",
    "\n"
   ]
  },
  {
   "cell_type": "markdown",
   "metadata": {},
   "source": [
    "https://medium.com/@lorevanoudenhove/how-to-build-ai-agents-with-langgraph-a-step-by-step-guide-5d84d9c7e832"
   ]
  },
  {
   "cell_type": "code",
   "execution_count": 2,
   "metadata": {},
   "outputs": [],
   "source": [
    "from langchain_core.tools import tool\n",
    "from langchain_community.tools.tavily_search import TavilySearchResults\n",
    "from langchain_core.prompts import ChatPromptTemplate\n",
    "from langchain_core.runnables import Runnable\n",
    "from typing import Annotated\n",
    "from typing_extensions import TypedDict\n",
    "from langgraph.graph.message import AnyMessage, add_messages\n",
    "from langchain_core.messages import ToolMessage\n",
    "from langchain_core.runnables import RunnableLambda\n",
    "from langgraph.prebuilt import ToolNode\n",
    "from langgraph.prebuilt import tools_condition"
   ]
  },
  {
   "cell_type": "code",
   "execution_count": 3,
   "metadata": {},
   "outputs": [],
   "source": [
    "@tool\n",
    "def compute_savings(monthly_cost: float) -> float:\n",
    "    \"\"\"\n",
    "    Tool to compute the potential savings when switching to solar energy based on the user's monthly electricity cost.\n",
    "    \n",
    "    Args:\n",
    "        monthly_cost (float): The user's current monthly electricity cost.\n",
    "    \n",
    "    Returns:\n",
    "        dict: A dictionary containing:\n",
    "            - 'number_of_panels': The estimated number of solar panels required.\n",
    "            - 'installation_cost': The estimated installation cost.\n",
    "            - 'net_savings_10_years': The net savings over 10 years after installation costs.\n",
    "    \"\"\"\n",
    "    def calculate_solar_savings(monthly_cost):\n",
    "        # Assumptions for the calculation\n",
    "        cost_per_kWh = 0.28  \n",
    "        cost_per_watt = 1.50  \n",
    "        sunlight_hours_per_day = 3.5  \n",
    "        panel_wattage = 350  \n",
    "        system_lifetime_years = 10  \n",
    "\n",
    "        # Monthly electricity consumption in kWh\n",
    "        monthly_consumption_kWh = monthly_cost / cost_per_kWh\n",
    "        \n",
    "        # Required system size in kW\n",
    "        daily_energy_production = monthly_consumption_kWh / 30\n",
    "        system_size_kW = daily_energy_production / sunlight_hours_per_day\n",
    "        \n",
    "        # Number of panels and installation cost\n",
    "        number_of_panels = system_size_kW * 1000 / panel_wattage\n",
    "        installation_cost = system_size_kW * 1000 * cost_per_watt\n",
    "        \n",
    "        # Annual and net savings\n",
    "        annual_savings = monthly_cost * 12\n",
    "        total_savings_10_years = annual_savings * system_lifetime_years\n",
    "        net_savings = total_savings_10_years - installation_cost\n",
    "        \n",
    "        return {\n",
    "            \"number_of_panels\": round(number_of_panels),\n",
    "            \"installation_cost\": round(installation_cost, 2),\n",
    "            \"net_savings_10_years\": round(net_savings, 2)\n",
    "        }\n",
    "\n",
    "    # Return calculated solar savings\n",
    "    return calculate_solar_savings(monthly_cost)"
   ]
  },
  {
   "cell_type": "code",
   "execution_count": 4,
   "metadata": {},
   "outputs": [],
   "source": [
    "def handle_tool_error(state) -> dict:\n",
    "    \"\"\"\n",
    "    Function to handle errors that occur during tool execution.\n",
    "    \n",
    "    Args:\n",
    "        state (dict): The current state of the AI agent, which includes messages and tool call details.\n",
    "    \n",
    "    Returns:\n",
    "        dict: A dictionary containing error messages for each tool that encountered an issue.\n",
    "    \"\"\"\n",
    "    # Retrieve the error from the current state\n",
    "    error = state.get(\"error\")\n",
    "    \n",
    "    # Access the tool calls from the last message in the state's message history\n",
    "    tool_calls = state[\"messages\"][-1].tool_calls\n",
    "    \n",
    "    # Return a list of ToolMessages with error details, linked to each tool call ID\n",
    "    return {\n",
    "        \"messages\": [\n",
    "            ToolMessage(\n",
    "                content=f\"Error: {repr(error)}\\n please fix your mistakes.\",  # Format the error message for the user\n",
    "                tool_call_id=tc[\"id\"],  # Associate the error message with the corresponding tool call ID\n",
    "            )\n",
    "            for tc in tool_calls  # Iterate over each tool call to produce individual error messages\n",
    "        ]\n",
    "    }\n",
    "\n",
    "def create_tool_node_with_fallback(tools: list) -> dict:\n",
    "    \"\"\"\n",
    "    Function to create a tool node with fallback error handling.\n",
    "    \n",
    "    Args:\n",
    "        tools (list): A list of tools to be included in the node.\n",
    "    \n",
    "    Returns:\n",
    "        dict: A tool node that uses fallback behavior in case of errors.\n",
    "    \"\"\"\n",
    "    # Create a ToolNode with the provided tools and attach a fallback mechanism\n",
    "    # If an error occurs, it will invoke the handle_tool_error function to manage the error\n",
    "    return ToolNode(tools).with_fallbacks(\n",
    "        [RunnableLambda(handle_tool_error)],  # Use a lambda function to wrap the error handler\n",
    "        exception_key=\"error\"  # Specify that this fallback is for handling errors\n",
    "    )\n",
    "\n",
    "class State(TypedDict):\n",
    "    messages: Annotated[list[AnyMessage], add_messages]\n",
    "\n",
    "\n",
    "class Assistant:\n",
    "    def __init__(self, runnable: Runnable):\n",
    "        # Initialize with the runnable that defines the process for interacting with the tools\n",
    "        self.runnable = runnable\n",
    "\n",
    "    def __call__(self, state: State):\n",
    "        while True:\n",
    "            # Invoke the runnable with the current state (messages and context)\n",
    "            result = self.runnable.invoke(state)\n",
    "            \n",
    "            # If the tool fails to return valid output, re-prompt the user to clarify or retry\n",
    "            if not result.tool_calls and (\n",
    "                not result.content\n",
    "                or isinstance(result.content, list)\n",
    "                and not result.content[0].get(\"text\")\n",
    "            ):\n",
    "                # Add a message to request a valid response\n",
    "                messages = state[\"messages\"] + [(\"user\", \"Respond with a real output.\")]\n",
    "                state = {**state, \"messages\": messages}\n",
    "            else:\n",
    "                # Break the loop when valid output is obtained\n",
    "                break\n",
    "\n",
    "        # Return the final state after processing the runnable\n",
    "        return {\"messages\": result}\n",
    "    \n"
   ]
  },
  {
   "cell_type": "code",
   "execution_count": 5,
   "metadata": {},
   "outputs": [
    {
     "name": "stdout",
     "output_type": "stream",
     "text": [
      "TODO\n",
      "TODO\n"
     ]
    }
   ],
   "source": [
    "\n",
    "# TODO: update these to use Ollama \n",
    "def get_bedrock_client(region):\n",
    "    # return boto3.client(\"bedrock-runtime\", region_name=region)\n",
    "    print(\"TODO\")\n",
    "\n",
    "def create_bedrock_llm(client):\n",
    "    # return ChatBedrock(model_id='anthropic.claude-3-sonnet-20240229-v1:0', client=client, model_kwargs={'temperature': 0}, region_name='us-east-1')\n",
    "    print(\"TODO\")\n",
    "\n",
    "llm = create_bedrock_llm(get_bedrock_client(region='us-east-1'))\n"
   ]
  },
  {
   "cell_type": "code",
   "execution_count": 6,
   "metadata": {},
   "outputs": [
    {
     "ename": "AttributeError",
     "evalue": "'NoneType' object has no attribute 'bind_tools'",
     "output_type": "error",
     "traceback": [
      "\u001b[0;31m---------------------------------------------------------------------------\u001b[0m",
      "\u001b[0;31mAttributeError\u001b[0m                            Traceback (most recent call last)",
      "Cell \u001b[0;32mIn[6], line 24\u001b[0m\n\u001b[1;32m     19\u001b[0m part_1_tools \u001b[38;5;241m=\u001b[39m [\n\u001b[1;32m     20\u001b[0m     compute_savings\n\u001b[1;32m     21\u001b[0m ]\n\u001b[1;32m     23\u001b[0m \u001b[38;5;66;03m# Bind the tools to the assistant's workflow\u001b[39;00m\n\u001b[0;32m---> 24\u001b[0m part_1_assistant_runnable \u001b[38;5;241m=\u001b[39m primary_assistant_prompt \u001b[38;5;241m|\u001b[39m \u001b[43mllm\u001b[49m\u001b[38;5;241;43m.\u001b[39;49m\u001b[43mbind_tools\u001b[49m(part_1_tools)\n",
      "\u001b[0;31mAttributeError\u001b[0m: 'NoneType' object has no attribute 'bind_tools'"
     ]
    }
   ],
   "source": [
    "primary_assistant_prompt = ChatPromptTemplate.from_messages(\n",
    "    [\n",
    "        (\n",
    "            \"system\",\n",
    "            '''You are a helpful customer support assistant for Solar Panels Belgium.\n",
    "            You should get the following information from them:\n",
    "            - monthly electricity cost\n",
    "            If you are not able to discern this info, ask them to clarify! Do not attempt to wildly guess.\n",
    "\n",
    "            After you are able to discern all the information, call the relevant tool.\n",
    "            ''',\n",
    "        ),\n",
    "        (\"placeholder\", \"{messages}\"),\n",
    "    ]\n",
    ")\n",
    "\n",
    "\n",
    "# Define the tools the assistant will use\n",
    "part_1_tools = [\n",
    "    compute_savings\n",
    "]\n",
    "\n",
    "# Bind the tools to the assistant's workflow\n",
    "part_1_assistant_runnable = primary_assistant_prompt | llm.bind_tools(part_1_tools)\n",
    "\n"
   ]
  },
  {
   "cell_type": "code",
   "execution_count": null,
   "metadata": {},
   "outputs": [],
   "source": [
    "builder = StateGraph(State)\n",
    "builder.add_node(\"assistant\", Assistant(part_1_assistant_runnable))\n",
    "builder.add_node(\"tools\", create_tool_node_with_fallback(part_1_tools))"
   ]
  },
  {
   "cell_type": "code",
   "execution_count": null,
   "metadata": {},
   "outputs": [],
   "source": [
    "builder.add_edge(START, \"assistant\")  # Start with the assistant\n",
    "builder.add_conditional_edges(\"assistant\", tools_condition)  # Move to tools after input\n",
    "builder.add_edge(\"tools\", \"assistant\")  # Return to assistant after tool execution"
   ]
  },
  {
   "cell_type": "code",
   "execution_count": null,
   "metadata": {},
   "outputs": [],
   "source": [
    "memory = MemorySaver()\n",
    "graph = builder.compile(checkpointer=memory)"
   ]
  },
  {
   "cell_type": "code",
   "execution_count": null,
   "metadata": {},
   "outputs": [],
   "source": [
    "# import shutil\n",
    "import uuid\n",
    "\n",
    "# Let's create an example conversation a user might have with the assistant\n",
    "tutorial_questions = [\n",
    "    'hey',\n",
    "    'can you calculate my energy saving',\n",
    "    \"my montly cost is $100, what will i save\"\n",
    "]\n",
    "\n",
    "thread_id = str(uuid.uuid4())\n",
    "\n",
    "config = {\n",
    "    \"configurable\": {\n",
    "        \"thread_id\": thread_id,\n",
    "    }\n",
    "}\n",
    "\n",
    "_printed = set()\n",
    "for question in tutorial_questions:\n",
    "    events = graph.stream(\n",
    "        {\"messages\": (\"user\", question)}, config, stream_mode=\"values\"\n",
    "    )\n",
    "    for event in events:\n",
    "        _print_event(event, _printed)"
   ]
  },
  {
   "cell_type": "code",
   "execution_count": null,
   "metadata": {},
   "outputs": [],
   "source": []
  }
 ],
 "metadata": {
  "kernelspec": {
   "display_name": "venv_test",
   "language": "python",
   "name": "python3"
  },
  "language_info": {
   "codemirror_mode": {
    "name": "ipython",
    "version": 3
   },
   "file_extension": ".py",
   "mimetype": "text/x-python",
   "name": "python",
   "nbconvert_exporter": "python",
   "pygments_lexer": "ipython3",
   "version": "3.12.3"
  }
 },
 "nbformat": 4,
 "nbformat_minor": 2
}
