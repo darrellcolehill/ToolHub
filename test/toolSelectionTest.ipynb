{
 "cells": [
  {
   "cell_type": "code",
   "execution_count": 2,
   "metadata": {},
   "outputs": [
    {
     "name": "stderr",
     "output_type": "stream",
     "text": [
      "/home/darrell/Documents/GitHub/ToolHub/venv_test/lib/python3.12/site-packages/tqdm/auto.py:21: TqdmWarning: IProgress not found. Please update jupyter and ipywidgets. See https://ipywidgets.readthedocs.io/en/stable/user_install.html\n",
      "  from .autonotebook import tqdm as notebook_tqdm\n"
     ]
    }
   ],
   "source": [
    "# Test this with Llama 3.2 3B and 1B models\n",
    "\n",
    "import os\n",
    "from dotenv import load_dotenv\n",
    "import requests\n",
    "import os\n",
    "import json\n",
    "import chromadb\n",
    "from tqdm import tqdm\n",
    "from sentence_transformers import SentenceTransformer\n",
    "\n",
    "# Define the endpoint and model\n",
    "url = \"http://localhost:1234/v1/completions\"\n",
    "model = \"hugging-quants/Llama-3.2-1B-Instruct-Q8_0-GGUF\"\n",
    "\n",
    "load_dotenv()\n",
    "api_key = os.getenv(\"OPENAI_API_KEY\")"
   ]
  },
  {
   "cell_type": "markdown",
   "metadata": {},
   "source": [
    "## Directly Passing Tools in Prompt"
   ]
  },
  {
   "cell_type": "code",
   "execution_count": 31,
   "metadata": {},
   "outputs": [
    {
     "name": "stdout",
     "output_type": "stream",
     "text": [
      "\"fetch_weather(location='Cape Coral', units='metric')\"\n"
     ]
    }
   ],
   "source": [
    "\n",
    "query = \"\"\"\n",
    "<|begin_of_text|><|start_header_id|>user<|end_header_id|>\n",
    "Questions: Can you tell me the weather for Cape Coral? \n",
    "\n",
    "Here is a list of functions in JSON format that you can invoke:\n",
    "[\n",
    "    {\n",
    "        \"name\": \"turn_on_light\",\n",
    "        \"description\": \"Send an HTTP request to turn on a smart lightbulb in a specific room.\",\n",
    "        \"parameters\": {\n",
    "            \"type\": \"dict\",\n",
    "            \"required\": [\n",
    "                \"room\"\n",
    "            ],\n",
    "            \"properties\": {\n",
    "                \"room\": {\n",
    "                    \"type\": \"string\",\n",
    "                    \"description\": \"The room where the light is located. Must be one of: living room, kitchen, office, bedroom, or garage.\",\n",
    "                    \"enum\": [\"livingroom\", \"kitchen\", \"office\", \"bedroom\", \"garage\"]\n",
    "                }\n",
    "            }\n",
    "        }\n",
    "    },\n",
    "\n",
    "    {\n",
    "        \"name\": \"fetch_weather\",\n",
    "        \"description\": \"Fetch the current weather for a given location.\",\n",
    "        \"parameters\": {\n",
    "            \"type\": \"dict\",\n",
    "            \"required\": [\n",
    "                \"location\"\n",
    "            ],\n",
    "            \"properties\": {\n",
    "                \"location\": {\n",
    "                    \"type\": \"string\",\n",
    "                    \"description\": \"The name of the city or coordinates (latitude,longitude) to fetch the weather for.\"\n",
    "                },\n",
    "                \"units\": {\n",
    "                    \"type\": \"string\",\n",
    "                    \"description\": \"The unit system for temperature (metric for Celsius, imperial for Fahrenheit).\",\n",
    "                    \"enum\": [\"metric\", \"imperial\"],\n",
    "                    \"default\": \"metric\"\n",
    "                }\n",
    "            }\n",
    "        }\n",
    "    },\n",
    "    {\n",
    "        \"name\": \"set_alarm\",\n",
    "        \"description\": \"Set an alarm for a specific time.\",\n",
    "        \"parameters\": {\n",
    "            \"type\": \"dict\",\n",
    "            \"required\": [\n",
    "                \"time\"\n",
    "            ],\n",
    "            \"properties\": {\n",
    "                \"time\": {\n",
    "                    \"type\": \"string\",\n",
    "                    \"description\": \"The time to set the alarm for, in HH:MM 24-hour format.\"\n",
    "                },\n",
    "                \"label\": {\n",
    "                    \"type\": \"string\",\n",
    "                    \"description\": \"An optional label for the alarm.\",\n",
    "                    \"default\": \"Alarm\"\n",
    "                }\n",
    "            }\n",
    "        }\n",
    "    },\n",
    "    \n",
    "]\n",
    "\n",
    "Should you decide to return the function call, Put it in the format of func(params_name=params_value, params_name2=params_value2...)\n",
    "NO other text MUST be included.<|eot_id|><|start_header_id|>assistant<|end_header_id|>\n",
    "\"\"\"\n",
    "# Define the payload for the API request\n",
    "data = {\n",
    "    \"model\": model,\n",
    "    \"prompt\": query,\n",
    "}\n",
    "\n",
    "# Make the API request\n",
    "response = requests.post(url, json=data)\n",
    "\n",
    "# Check if the response was successful\n",
    "if response.status_code == 200:\n",
    "    result = response.json()\n",
    "    print(result['choices'][0]['text'].strip())  # Extract and print the response text\n",
    "else:\n",
    "    print(f\"Error: {response.status_code}, {response.text}\")\n"
   ]
  },
  {
   "cell_type": "markdown",
   "metadata": {},
   "source": [
    "## Using Most Similar Tool from Vector Database"
   ]
  },
  {
   "cell_type": "code",
   "execution_count": 3,
   "metadata": {},
   "outputs": [],
   "source": [
    "# Initialize ChromaDB (Persistent)\n",
    "chroma_client = chromadb.PersistentClient(path=\"../database/chroma\")\n",
    "collection = chroma_client.get_or_create_collection(name=\"tool_json_documents\")\n",
    "\n",
    "# Load local embedding models\n",
    "embedding_model = SentenceTransformer(\"all-MiniLM-L6-v2\")"
   ]
  },
  {
   "cell_type": "code",
   "execution_count": null,
   "metadata": {},
   "outputs": [
    {
     "name": "stdout",
     "output_type": "stream",
     "text": [
      "[turn_on_light(room=garage)]\n"
     ]
    }
   ],
   "source": [
    "\n",
    "\n",
    "# Query Example\n",
    "query = \"Can you turn on the light in the garage?\"\n",
    "query_embedding = embedding_model.encode(query, convert_to_numpy=True).tolist()\n",
    "\n",
    "results = collection.query(query_embeddings=[query_embedding], n_results=1)\n",
    "\n",
    "json_tool = {}\n",
    "# Print the top result\n",
    "for doc, meta in zip(results[\"documents\"][0], results[\"metadatas\"][0]):\n",
    "    # print(f\"🔍 Retrieved Document from {meta['filename']}:\\n\", \"\\n\")\n",
    "    json_tool = json.loads(doc)\n",
    "    json_tool = json_tool['tool']\n",
    "\n",
    "\n",
    "\n",
    "\n",
    "json_tool = {}\n",
    "# Print the top result\n",
    "for doc, meta in zip(results[\"documents\"][0], results[\"metadatas\"][0]):\n",
    "    # print(f\"🔍 Retrieved Document from {meta['filename']}:\\n\", \"\\n\")\n",
    "    json_tool = json.loads(doc)  # Convert string to JSON\n",
    "    json_tool = json_tool['tool']  # Extract the relevant 'tool' part\n",
    "\n",
    "# Format the JSON with indentation (using tabs)\n",
    "formatted_json = json.dumps(json_tool, indent=4)  # You can use 4 spaces, or a tab character as you prefer\n",
    "\n",
    "# Construct the updated query\n",
    "updated_query = f\"\"\"\n",
    "<|begin_of_text|>\n",
    "\n",
    "<|start_header_id|>system<|end_header_id|>\n",
    "You are an expert in composing function calls. You are given a question and a set of possible functions. \n",
    "Your task is to determine which function(s) should be invoked to fulfill the request.  \n",
    "\n",
    "- If none of the functions are applicable, state that explicitly.  \n",
    "- If required parameters are missing, point that out.  \n",
    "- You MUST return function calls **ONLY** in the following format:  \n",
    "  **[func_name1(param1=value1, param2=value2...), func_name2(param=value)]**  \n",
    "- DO NOT return JSON, explanations, or any other text.  \n",
    "\n",
    "Here is a list of available functions in JSON format for reference:  \n",
    "{formatted_json}\n",
    "\n",
    "Your response MUST contain **only** the function call(s) in the exact format specified.  \n",
    "**DO NOT** include JSON, extra text, or explanations.  \n",
    "\n",
    "<|eot_id|><|start_header_id|>end_header_id|>\n",
    "\n",
    "<|start_header_id|>user<|end_header_id|>\n",
    "Question: {query}\n",
    "\"\"\"\n",
    "\n",
    "\n",
    "# Define the payload for the API request\n",
    "data = {\n",
    "    \"model\": model,\n",
    "    \"prompt\": updated_query,\n",
    "}\n",
    "\n",
    "# Make the API request\n",
    "response = requests.post(url, json=data)\n",
    "\n",
    "# Check if the response was successful\n",
    "if response.status_code == 200:\n",
    "    result = response.json()\n",
    "    print(result['choices'][0]['text'].strip())  # Extract and print the response text\n",
    "else:\n",
    "    print(f\"Error: {response.status_code}, {response.text}\")\n"
   ]
  }
 ],
 "metadata": {
  "kernelspec": {
   "display_name": "venv_test",
   "language": "python",
   "name": "python3"
  },
  "language_info": {
   "codemirror_mode": {
    "name": "ipython",
    "version": 3
   },
   "file_extension": ".py",
   "mimetype": "text/x-python",
   "name": "python",
   "nbconvert_exporter": "python",
   "pygments_lexer": "ipython3",
   "version": "3.12.3"
  }
 },
 "nbformat": 4,
 "nbformat_minor": 2
}
